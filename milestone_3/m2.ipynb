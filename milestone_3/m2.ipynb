{
 "cells": [
  {
   "cell_type": "markdown",
   "metadata": {},
   "source": [
    "# import packages"
   ]
  },
  {
   "cell_type": "code",
   "execution_count": 1,
   "metadata": {},
   "outputs": [],
   "source": [
    "import pandas as pd\n",
    "\n",
    "from sklearn.metrics.classification import accuracy_score\n",
    "from sklearn.gaussian_process import GaussianProcessClassifier as GPC\n",
    "from sklearn.gaussian_process.kernels import RBF, DotProduct as DP\n",
    "\n",
    "from sklearn.model_selection import KFold\n",
    "from random import *\n",
    "\n",
    "import warnings; warnings.simplefilter('ignore')\n",
    "\n",
    "import random\n",
    "random.seed(9001)\n"
   ]
  },
  {
   "cell_type": "markdown",
   "metadata": {},
   "source": [
    "# using PCA"
   ]
  },
  {
   "cell_type": "code",
   "execution_count": 2,
   "metadata": {},
   "outputs": [
    {
     "name": "stdout",
     "output_type": "stream",
     "text": [
      "now with PCA\n",
      "Log Marginal Likelihood : -227.685 (RBF) -219.966 (Dot Product)\n",
      "Accuracy (RBF): 0.382 (train data) 0.350 (test data)\n",
      "Accuracy (Dot Product): 0.928 (train data) 0.870 (test data)\n"
     ]
    }
   ],
   "source": [
    "## PCA\n",
    "\n",
    "\n",
    "# read\n",
    "\n",
    "train = pd.read_csv('E:/python/train_pca.csv')\n",
    "test = pd.read_csv('E:/python/test_pca.csv')\n",
    "\n",
    "trainData  = train.drop('Activity', axis=1).values\n",
    "trainLabel = train.Activity.values\n",
    "testData  = test.drop('Activity', axis=1).values\n",
    "testLabel = test.Activity.values\n",
    "\n",
    "# GP \n",
    "\n",
    "index = sample(list(range(1,7352)), 500)\n",
    "trainData = trainData[index]\n",
    "trainLabel = trainLabel[index]\n",
    "\n",
    "kernel_rbf = 1.0 * RBF(length_scale=1.0)\n",
    "gpc_rbf = GPC(kernel=kernel_rbf).fit(trainData, trainLabel)\n",
    "\n",
    "kernel_dp = 1.0 * DP(sigma_0=0)\n",
    "gpc_dp = GPC(kernel=kernel_dp).fit(trainData, trainLabel)\n",
    "\n",
    "print(\"now with PCA\")\n",
    "\n",
    "print(\"Log Marginal Likelihood : %.3f (RBF) %.3f (Dot Product)\"\n",
    "      % (gpc_rbf.log_marginal_likelihood(gpc_rbf.kernel_.theta),\n",
    "      gpc_dp.log_marginal_likelihood(gpc_dp.kernel_.theta)))\n",
    "\n",
    "print(\"Accuracy (RBF): %.3f (train data) %.3f (test data)\"\n",
    "      % (accuracy_score(trainLabel, gpc_rbf.predict(trainData)),\n",
    "         accuracy_score(testLabel, gpc_rbf.predict(testData))))\n",
    "\n",
    "print(\"Accuracy (Dot Product): %.3f (train data) %.3f (test data)\"\n",
    "      % (accuracy_score(trainLabel, gpc_dp.predict(trainData)),\n",
    "         accuracy_score(testLabel, gpc_dp.predict(testData))))"
   ]
  },
  {
   "cell_type": "markdown",
   "metadata": {},
   "source": [
    "# using KPCA"
   ]
  },
  {
   "cell_type": "code",
   "execution_count": 3,
   "metadata": {},
   "outputs": [
    {
     "name": "stdout",
     "output_type": "stream",
     "text": [
      "now with KPCA\n",
      "Log Marginal Likelihood : -58.512 (RBF) -181.540 (Dot Product)\n",
      "Accuracy (RBF): 0.972 (train data) 0.895 (test data)\n",
      "Accuracy (Dot Product): 0.134 (train data) 0.160 (test data)\n"
     ]
    }
   ],
   "source": [
    "## KPCA\n",
    "\n",
    "\n",
    "# read\n",
    "\n",
    "train = pd.read_csv('E:/python/train_kpca.csv')\n",
    "test = pd.read_csv('E:/python/test_kpca.csv')\n",
    "\n",
    "trainData  = train.drop('Activity', axis=1).values\n",
    "trainLabel = train.Activity.values\n",
    "testData  = test.drop('Activity', axis=1).values\n",
    "testLabel = test.Activity.values\n",
    "\n",
    "# GP \n",
    "\n",
    "index = sample(list(range(1,7352)), 500)\n",
    "trainData = trainData[index]\n",
    "trainLabel = trainLabel[index]\n",
    "\n",
    "kernel_rbf = 1.0 * RBF(length_scale=1.0)\n",
    "gpc_rbf = GPC(kernel=kernel_rbf).fit(trainData, trainLabel)\n",
    "\n",
    "kernel_dp = 1.0 * DP(sigma_0=0)\n",
    "gpc_dp = GPC(kernel=kernel_dp).fit(trainData, trainLabel)\n",
    "\n",
    "print(\"now with KPCA\")\n",
    "\n",
    "print(\"Log Marginal Likelihood : %.3f (RBF) %.3f (Dot Product)\"\n",
    "      % (gpc_rbf.log_marginal_likelihood(gpc_rbf.kernel_.theta),\n",
    "      gpc_dp.log_marginal_likelihood(gpc_dp.kernel_.theta)))\n",
    "\n",
    "print(\"Accuracy (RBF): %.3f (train data) %.3f (test data)\"\n",
    "      % (accuracy_score(trainLabel, gpc_rbf.predict(trainData)),\n",
    "         accuracy_score(testLabel, gpc_rbf.predict(testData))))\n",
    "\n",
    "print(\"Accuracy (Dot Product): %.3f (train data) %.3f (test data)\"\n",
    "      % (accuracy_score(trainLabel, gpc_dp.predict(trainData)),\n",
    "         accuracy_score(testLabel, gpc_dp.predict(testData))))"
   ]
  },
  {
   "cell_type": "code",
   "execution_count": null,
   "metadata": {},
   "outputs": [],
   "source": []
  }
 ],
 "metadata": {
  "kernelspec": {
   "display_name": "Python 3",
   "language": "python",
   "name": "python3"
  },
  "language_info": {
   "codemirror_mode": {
    "name": "ipython",
    "version": 3
   },
   "file_extension": ".py",
   "mimetype": "text/x-python",
   "name": "python",
   "nbconvert_exporter": "python",
   "pygments_lexer": "ipython3",
   "version": "3.6.4"
  }
 },
 "nbformat": 4,
 "nbformat_minor": 2
}
