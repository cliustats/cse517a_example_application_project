{
 "cells": [
  {
   "cell_type": "markdown",
   "metadata": {},
   "source": [
    "# import packages"
   ]
  },
  {
   "cell_type": "code",
   "execution_count": 1,
   "metadata": {},
   "outputs": [],
   "source": [
    "# Import the required Python libraries\n",
    "from sklearn import linear_model\n",
    "from sklearn.model_selection import train_test_split\n",
    "import pandas as pd\n",
    "import numpy as np\n",
    "import warnings; warnings.simplefilter('ignore')\n"
   ]
  },
  {
   "cell_type": "markdown",
   "metadata": {},
   "source": [
    "# using PCA"
   ]
  },
  {
   "cell_type": "code",
   "execution_count": 2,
   "metadata": {},
   "outputs": [
    {
     "name": "stdout",
     "output_type": "stream",
     "text": [
      "(7352, 50)\n",
      "(7352,)\n",
      "(2947, 50)\n",
      "(2947,)\n",
      "now showing results of PCA\n",
      "0.8988802171700034\n"
     ]
    }
   ],
   "source": [
    "### using PCA\n",
    "\n",
    "\n",
    "train = pd.read_csv('E:/python/train_pca.csv')\n",
    "test = pd.read_csv('E:/python/test_pca.csv')\n",
    "\n",
    "# separating data inputs and output lables\n",
    "trainData  = train.drop('Activity' , axis=1).values\n",
    "trainLabel = train.Activity.values\n",
    "testData  = test.drop('Activity' , axis=1).values\n",
    "testLabel = test.Activity.values\n",
    "\n",
    "print (trainData.shape)\n",
    "print (trainLabel.shape)\n",
    "print (testData.shape)\n",
    "print (testLabel.shape)\n",
    "\n",
    "# Run the linear classfier\n",
    "linear_classify = linear_model.SGDClassifier()\n",
    "# Fit the data\n",
    "linear_classify.fit(trainData, trainLabel)\n",
    "\n",
    "# Get the accuracy of the test data\n",
    "accuracy = linear_classify.score(testData, testLabel)\n",
    "print(\"now showing results of PCA\")\n",
    "print (accuracy)"
   ]
  },
  {
   "cell_type": "markdown",
   "metadata": {},
   "source": [
    "# using KPCA"
   ]
  },
  {
   "cell_type": "code",
   "execution_count": 3,
   "metadata": {},
   "outputs": [
    {
     "name": "stdout",
     "output_type": "stream",
     "text": [
      "now showing results of KPCA\n",
      "0.9239904988123515\n"
     ]
    }
   ],
   "source": [
    "### using kernel PCA\n",
    "\n",
    "train = pd.read_csv('E:/python/train_kpca.csv')\n",
    "test = pd.read_csv('E:/python/test_kpca.csv')\n",
    "\n",
    "# separating data inputs and output lables\n",
    "trainData  = train.drop('Activity' , axis=1).values\n",
    "trainLabel = train.Activity.values\n",
    "testData  = test.drop('Activity' , axis=1).values\n",
    "testLabel = test.Activity.values\n",
    "\n",
    "# Run the linear classfier\n",
    "linear_classify = linear_model.SGDClassifier()\n",
    "# Fit the data\n",
    "linear_classify.fit(trainData, trainLabel)\n",
    "\n",
    "# Get the accuracy of the test data\n",
    "accuracy = linear_classify.score(testData, testLabel)\n",
    "print(\"now showing results of KPCA\")\n",
    "print (accuracy)"
   ]
  },
  {
   "cell_type": "code",
   "execution_count": null,
   "metadata": {},
   "outputs": [],
   "source": []
  }
 ],
 "metadata": {
  "kernelspec": {
   "display_name": "Python 3",
   "language": "python",
   "name": "python3"
  },
  "language_info": {
   "codemirror_mode": {
    "name": "ipython",
    "version": 3
   },
   "file_extension": ".py",
   "mimetype": "text/x-python",
   "name": "python",
   "nbconvert_exporter": "python",
   "pygments_lexer": "ipython3",
   "version": "3.6.4"
  }
 },
 "nbformat": 4,
 "nbformat_minor": 2
}
