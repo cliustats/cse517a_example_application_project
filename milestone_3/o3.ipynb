{
 "cells": [
  {
   "cell_type": "markdown",
   "metadata": {},
   "source": [
    "# import packages"
   ]
  },
  {
   "cell_type": "code",
   "execution_count": 1,
   "metadata": {},
   "outputs": [],
   "source": [
    "import pandas as pd\n",
    "import numpy as np\n",
    "import matplotlib.pyplot as plt\n",
    "\n",
    "from sklearn.neural_network import MLPClassifier\n",
    "\n",
    "import warnings; warnings.simplefilter('ignore')"
   ]
  },
  {
   "cell_type": "markdown",
   "metadata": {},
   "source": [
    "# read data"
   ]
  },
  {
   "cell_type": "code",
   "execution_count": 2,
   "metadata": {},
   "outputs": [],
   "source": [
    "# read original data\n",
    "\n",
    "train = pd.read_csv('E:/python/train_pca.csv')\n",
    "test = pd.read_csv('E:/python/test_pca.csv')\n",
    "\n",
    "trainData  = train.drop(['Activity'], axis=1).values\n",
    "trainLabel = train.Activity.values\n",
    "testData  = test.drop(['Activity'], axis=1).values\n",
    "testLabel = test.Activity.values\n",
    "\n"
   ]
  },
  {
   "cell_type": "markdown",
   "metadata": {},
   "source": [
    "# neural network using quasi-Newton"
   ]
  },
  {
   "cell_type": "code",
   "execution_count": 7,
   "metadata": {},
   "outputs": [
    {
     "name": "stdout",
     "output_type": "stream",
     "text": [
      "shape of neural network: \n",
      "[(50, 10), (10, 10), (10, 6)]\n",
      "number of iterations ran: \n",
      "501\n"
     ]
    }
   ],
   "source": [
    "clf = MLPClassifier(solver='lbfgs',hidden_layer_sizes=(10,10),alpha=0.01,max_iter=500)\n",
    "clf.fit(trainData,trainLabel)\n",
    "\n",
    "print(\"shape of neural network: \")\n",
    "print([coef.shape for coef in clf.coefs_])\n",
    "\n",
    "print(\"number of iterations ran: \")\n",
    "print(clf.n_iter_)"
   ]
  },
  {
   "cell_type": "code",
   "execution_count": 8,
   "metadata": {},
   "outputs": [
    {
     "name": "stdout",
     "output_type": "stream",
     "text": [
      "accuracy on training set: \n",
      "0.9851741022850925\n",
      "accuracy on test set: \n",
      "0.9182219205972175\n"
     ]
    }
   ],
   "source": [
    "accu1 = clf.score(trainData,trainLabel)\n",
    "print(\"accuracy on training set: \")\n",
    "print(accu1)\n",
    "accu2 = clf.score(testData,testLabel)\n",
    "print(\"accuracy on test set: \")\n",
    "print(accu2)\n"
   ]
  },
  {
   "cell_type": "markdown",
   "metadata": {},
   "source": [
    "# neural network using stochastic gradient descent"
   ]
  },
  {
   "cell_type": "code",
   "execution_count": 9,
   "metadata": {},
   "outputs": [
    {
     "name": "stdout",
     "output_type": "stream",
     "text": [
      "shape of neural network: \n",
      "[(50, 10), (10, 10), (10, 6)]\n",
      "number of iterations ran: \n",
      "256\n"
     ]
    }
   ],
   "source": [
    "clf = MLPClassifier(solver='sgd',hidden_layer_sizes=(10,10),alpha=0.01,max_iter=500)\n",
    "clf.fit(trainData,trainLabel)\n",
    "\n",
    "print(\"shape of neural network: \")\n",
    "print([coef.shape for coef in clf.coefs_])\n",
    "\n",
    "print(\"number of iterations ran: \")\n",
    "print(clf.n_iter_)"
   ]
  },
  {
   "cell_type": "code",
   "execution_count": 10,
   "metadata": {},
   "outputs": [
    {
     "name": "stdout",
     "output_type": "stream",
     "text": [
      "accuracy on training set: \n",
      "0.9579706202393906\n",
      "accuracy on test set: \n",
      "0.9246691550729556\n"
     ]
    }
   ],
   "source": [
    "accu1 = clf.score(trainData,trainLabel)\n",
    "print(\"accuracy on training set: \")\n",
    "print(accu1)\n",
    "accu2 = clf.score(testData,testLabel)\n",
    "print(\"accuracy on test set: \")\n",
    "print(accu2)"
   ]
  },
  {
   "cell_type": "code",
   "execution_count": null,
   "metadata": {},
   "outputs": [],
   "source": []
  }
 ],
 "metadata": {
  "kernelspec": {
   "display_name": "Python 3",
   "language": "python",
   "name": "python3"
  },
  "language_info": {
   "codemirror_mode": {
    "name": "ipython",
    "version": 3
   },
   "file_extension": ".py",
   "mimetype": "text/x-python",
   "name": "python",
   "nbconvert_exporter": "python",
   "pygments_lexer": "ipython3",
   "version": "3.6.4"
  }
 },
 "nbformat": 4,
 "nbformat_minor": 2
}
