{
 "cells": [
  {
   "cell_type": "code",
   "execution_count": null,
   "metadata": {},
   "outputs": [],
   "source": [
    "import pandas as pd\n",
    "\n",
    "from sklearn.metrics.classification import accuracy_score\n",
    "from sklearn.gaussian_process import GaussianProcessClassifier as GPC\n",
    "from sklearn.gaussian_process.kernels import RBF, DotProduct as DP\n",
    "\n",
    "from sklearn.model_selection import KFold\n",
    "\n",
    "import warnings; warnings.simplefilter('ignore')"
   ]
  },
  {
   "cell_type": "markdown",
   "metadata": {},
   "source": [
    "#  Import Data"
   ]
  },
  {
   "cell_type": "code",
   "execution_count": null,
   "metadata": {},
   "outputs": [],
   "source": [
    "train = pd.read_csv('/Users/chuyiyu/Desktop/UCI HAR Dataset/train.csv')\n",
    "test = pd.read_csv('/Users/chuyiyu/Desktop/UCI HAR Dataset/test.csv')"
   ]
  },
  {
   "cell_type": "markdown",
   "metadata": {},
   "source": [
    "### separating data inputs and output lables"
   ]
  },
  {
   "cell_type": "code",
   "execution_count": null,
   "metadata": {},
   "outputs": [],
   "source": [
    "trainData  = train.drop('Activity', axis=1).values\n",
    "trainLabel = train.Activity.values\n",
    "testData  = test.drop('Activity', axis=1).values\n",
    "testLabel = test.Activity.values"
   ]
  },
  {
   "cell_type": "markdown",
   "metadata": {},
   "source": [
    "# Gaussian Process Classification"
   ]
  },
  {
   "cell_type": "markdown",
   "metadata": {},
   "source": [
    "### Instanciate a Gaussian Process model using RBF kernel"
   ]
  },
  {
   "cell_type": "markdown",
   "metadata": {},
   "source": [
    "### Instanciate a Gaussian Process model using Dot Product kernel"
   ]
  },
  {
   "cell_type": "code",
   "execution_count": null,
   "metadata": {},
   "outputs": [],
   "source": [
    "kernel_dp = 1.0 * DP(sigma_0=1.0)**2\n",
    "gpc_dp = GPC(kernel=kernel_dp).fit(trainData, trainLabel)"
   ]
  },
  {
   "cell_type": "markdown",
   "metadata": {},
   "source": [
    "### Log Marginal Likelihood on Training Set"
   ]
  },
  {
   "cell_type": "code",
   "execution_count": null,
   "metadata": {},
   "outputs": [],
   "source": [
    "print(\"Log Marginal Likelihood : %.3f (RBF) %.3f (Dot Product)\"\n",
    "      % (gpc_rbf.log_marginal_likelihood(gpc_rbf.kernel_.theta),\n",
    "      gpc_dp.log_marginal_likelihood(gpc_dp.kernel_.theta)))"
   ]
  },
  {
   "cell_type": "markdown",
   "metadata": {},
   "source": [
    "### Prediction Accuracy on Test Set"
   ]
  },
  {
   "cell_type": "code",
   "execution_count": null,
   "metadata": {},
   "outputs": [],
   "source": [
    "print(\"Accuracy (RBF): %.3f (train data) %.3f (test data)\"\n",
    "      % (accuracy_score(trainLabel, gpc_rbf.predict(trainData)),\n",
    "         accuracy_score(testLabel, gpc_rbf.predict(testData))))\n",
    "\n",
    "print(\"Accuracy (Dot Product): %.3f (train data) %.3f (test data)\"\n",
    "      % (accuracy_score(trainLabel, gpc_dp.predict(trainData)),\n",
    "         accuracy_score(testLabel, gpc_dp.predict(testData))))"
   ]
  },
  {
   "cell_type": "markdown",
   "metadata": {},
   "source": [
    "# Compare the Predictions using RBF and Dot Product Kernels via 10-fold Cross-validation with Log Marginal Likelihood as Error Measure"
   ]
  },
  {
   "cell_type": "markdown",
   "metadata": {},
   "source": [
    "### Merging the training data and test data"
   ]
  },
  {
   "cell_type": "code",
   "execution_count": null,
   "metadata": {},
   "outputs": [],
   "source": [
    "fulldata = train.append(test)\n",
    "fulldata_X = fulldata.drop('Activity', axis=1).values\n",
    "fulldata_y = fulldata.Activity.values"
   ]
  },
  {
   "cell_type": "markdown",
   "metadata": {},
   "source": [
    "### Cross-validation"
   ]
  },
  {
   "cell_type": "code",
   "execution_count": null,
   "metadata": {},
   "outputs": [],
   "source": [
    "n_splits=10\n",
    "val_LML_rbf, val_LML_dp=0, 0\n",
    "cv = KFold(n_splits=n_splits)\n",
    "for train, test in cv.split(fulldata_X , fulldata_y):\n",
    "    cv_rbf=GPC(kernel=kernel_rbf).fit(fulldata_X[train], fulldata_y[train])\n",
    "    cv_dp=GPC(kernel=kernel_dp).fit(fulldata_X[train], fulldata_y[train])\n",
    "    val_LML_rbf += cv_rbf.log_marginal_likelihood(cv_rbf.kernel_.theta)\n",
    "    val_LML_dp += cv_dp.log_marginal_likelihood(cv_dp.kernel_.theta)\n",
    "val_LML_rbf /= n_splits\n",
    "val_LML_dp /= n_splits\n",
    "print(\"log marginal likelihood: %.3f (RBF) %.3f (Dot Product)\" % (val_LML_rbf,val_LML_dp))"
   ]
  }
 ],
 "metadata": {
  "kernelspec": {
   "display_name": "Python 3",
   "language": "python",
   "name": "python3"
  },
  "language_info": {
   "codemirror_mode": {
    "name": "ipython",
    "version": 3
   },
   "file_extension": ".py",
   "mimetype": "text/x-python",
   "name": "python",
   "nbconvert_exporter": "python",
   "pygments_lexer": "ipython3",
   "version": "3.6.4"
  }
 },
 "nbformat": 4,
 "nbformat_minor": 2
}
