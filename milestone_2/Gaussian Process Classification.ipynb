{
 "cells": [
  {
   "cell_type": "code",
   "execution_count": 14,
   "metadata": {},
   "outputs": [],
   "source": [
    "import pandas as pd\n",
    "\n",
    "from sklearn.metrics.classification import accuracy_score\n",
    "from sklearn.gaussian_process import GaussianProcessClassifier as GPC\n",
    "from sklearn.gaussian_process.kernels import RBF, DotProduct as DP\n",
    "\n",
    "from sklearn.model_selection import KFold\n",
    "from random import *\n",
    "\n",
    "import warnings; warnings.simplefilter('ignore')"
   ]
  },
  {
   "cell_type": "markdown",
   "metadata": {},
   "source": [
    "#  Import Data"
   ]
  },
  {
   "cell_type": "code",
   "execution_count": 15,
   "metadata": {},
   "outputs": [],
   "source": [
    "train = pd.read_csv('/Users/chuyiyu/Desktop/UCI HAR Dataset/train.csv')\n",
    "test = pd.read_csv('/Users/chuyiyu/Desktop/UCI HAR Dataset/test.csv')"
   ]
  },
  {
   "cell_type": "markdown",
   "metadata": {},
   "source": [
    "### separating data inputs and output lables"
   ]
  },
  {
   "cell_type": "code",
   "execution_count": 5,
   "metadata": {},
   "outputs": [],
   "source": [
    "trainData  = train.drop('Activity', axis=1).values\n",
    "trainLabel = train.Activity.values\n",
    "testData  = test.drop('Activity', axis=1).values\n",
    "testLabel = test.Activity.values"
   ]
  },
  {
   "cell_type": "markdown",
   "metadata": {},
   "source": [
    "# Gaussian Process Classification"
   ]
  },
  {
   "cell_type": "markdown",
   "metadata": {},
   "source": [
    "### Instanciate a Gaussian Process model using RBF kernel"
   ]
  },
  {
   "cell_type": "code",
   "execution_count": 6,
   "metadata": {},
   "outputs": [],
   "source": [
    "kernel_rbf = 1.0 * RBF(length_scale=1.0)"
   ]
  },
  {
   "cell_type": "code",
   "execution_count": 5,
   "metadata": {},
   "outputs": [],
   "source": [
    "gpc_rbf = GPC(kernel=kernel_rbf).fit(trainData, trainLabel)"
   ]
  },
  {
   "cell_type": "markdown",
   "metadata": {},
   "source": [
    "### Instanciate a Gaussian Process model using Dot Product kernel"
   ]
  },
  {
   "cell_type": "code",
   "execution_count": 7,
   "metadata": {},
   "outputs": [],
   "source": [
    "kernel_dp = 1.0 * DP(sigma_0=0)"
   ]
  },
  {
   "cell_type": "code",
   "execution_count": 6,
   "metadata": {},
   "outputs": [],
   "source": [
    "gpc_dp = GPC(kernel=kernel_dp).fit(trainData, trainLabel)"
   ]
  },
  {
   "cell_type": "markdown",
   "metadata": {},
   "source": [
    "### Log Marginal Likelihood on Training Set"
   ]
  },
  {
   "cell_type": "code",
   "execution_count": 7,
   "metadata": {},
   "outputs": [
    {
     "name": "stdout",
     "output_type": "stream",
     "text": [
      "Log Marginal Likelihood : -218.409 (RBF) -226.873 (Dot Product)\n"
     ]
    }
   ],
   "source": [
    "print(\"Log Marginal Likelihood : %.3f (RBF) %.3f (Dot Product)\"\n",
    "      % (gpc_rbf.log_marginal_likelihood(gpc_rbf.kernel_.theta),\n",
    "      gpc_dp.log_marginal_likelihood(gpc_dp.kernel_.theta)))"
   ]
  },
  {
   "cell_type": "markdown",
   "metadata": {},
   "source": [
    "### Prediction Accuracy on Test Set"
   ]
  },
  {
   "cell_type": "code",
   "execution_count": 8,
   "metadata": {},
   "outputs": [
    {
     "name": "stdout",
     "output_type": "stream",
     "text": [
      "Accuracy (RBF): 0.999 (train data) 0.955 (test data)\n",
      "Accuracy (Dot Product): 0.996 (train data) 0.961 (test data)\n"
     ]
    }
   ],
   "source": [
    "print(\"Accuracy (RBF): %.3f (train data) %.3f (test data)\"\n",
    "      % (accuracy_score(trainLabel, gpc_rbf.predict(trainData)),\n",
    "         accuracy_score(testLabel, gpc_rbf.predict(testData))))\n",
    "\n",
    "print(\"Accuracy (Dot Product): %.3f (train data) %.3f (test data)\"\n",
    "      % (accuracy_score(trainLabel, gpc_dp.predict(trainData)),\n",
    "         accuracy_score(testLabel, gpc_dp.predict(testData))))"
   ]
  },
  {
   "cell_type": "markdown",
   "metadata": {},
   "source": [
    "# Compare the Predictions using RBF and Dot Product Kernels via 10-fold Cross-validation with Log Marginal Likelihood as Error Measure"
   ]
  },
  {
   "cell_type": "markdown",
   "metadata": {},
   "source": [
    "### Merging the training data and test data"
   ]
  },
  {
   "cell_type": "code",
   "execution_count": 8,
   "metadata": {},
   "outputs": [],
   "source": [
    "fulldata = train.append(test)\n",
    "fulldata_X = fulldata.drop('Activity', axis=1).values\n",
    "fulldata_y = fulldata.Activity.values"
   ]
  },
  {
   "cell_type": "markdown",
   "metadata": {},
   "source": [
    "### Cross-validation"
   ]
  },
  {
   "cell_type": "code",
   "execution_count": 20,
   "metadata": {},
   "outputs": [
    {
     "name": "stdout",
     "output_type": "stream",
     "text": [
      "Accuracy: 0.902 (RBF) 0.916 (Dot Product)\n"
     ]
    }
   ],
   "source": [
    "n_samples, n_features = fulldata_X.shape\n",
    "items = list(range(1, n_samples+1))\n",
    "index = sample(items, 500) \n",
    "\n",
    "n_splits=10\n",
    "val_acc_rbf, val_acc_dp=0, 0\n",
    "cv = KFold(n_splits=n_splits)\n",
    "for train, test in cv.split(fulldata_X[index] , fulldata_y[index]):\n",
    "    cv_rbf=GPC(kernel=kernel_rbf).fit(fulldata_X[index][train], fulldata_y[index][train])\n",
    "    cv_dp=GPC(kernel=kernel_dp).fit(fulldata_X[index][train], fulldata_y[index][train])\n",
    "    val_acc_rbf += accuracy_score(fulldata_y[index][test], cv_rbf.predict(fulldata_X[index][test]))\n",
    "    val_acc_dp += accuracy_score(fulldata_y[index][test], cv_dp.predict(fulldata_X[index][test]))\n",
    "\n",
    "val_acc_rbf /= n_splits\n",
    "val_acc_dp /= n_splits\n",
    "print(\"Accuracy: %.3f (RBF) %.3f (Dot Product)\" % (val_acc_rbf,val_acc_dp))"
   ]
  }
 ],
 "metadata": {
  "kernelspec": {
   "display_name": "Python 3",
   "language": "python",
   "name": "python3"
  },
  "language_info": {
   "codemirror_mode": {
    "name": "ipython",
    "version": 3
   },
   "file_extension": ".py",
   "mimetype": "text/x-python",
   "name": "python",
   "nbconvert_exporter": "python",
   "pygments_lexer": "ipython3",
   "version": "3.6.4"
  }
 },
 "nbformat": 4,
 "nbformat_minor": 2
}
