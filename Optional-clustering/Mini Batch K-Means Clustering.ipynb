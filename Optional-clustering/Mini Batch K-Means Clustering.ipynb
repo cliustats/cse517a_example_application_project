{
 "cells": [
  {
   "cell_type": "code",
   "execution_count": 1,
   "metadata": {
    "collapsed": true
   },
   "outputs": [],
   "source": [
    "import numpy as np\n",
    "import pandas as pd\n",
    "\n",
    "from sklearn import metrics\n",
    "from sklearn.cluster import MiniBatchKMeans"
   ]
  },
  {
   "cell_type": "markdown",
   "metadata": {},
   "source": [
    "# Import Data"
   ]
  },
  {
   "cell_type": "code",
   "execution_count": 2,
   "metadata": {},
   "outputs": [
    {
     "name": "stdout",
     "output_type": "stream",
     "text": [
      "n_activities: 6, \t n_samples 10299, \t n_features 562\n"
     ]
    }
   ],
   "source": [
    "train = pd.read_csv('/Users/tekinosei/Desktop/Chuichui/train.csv')\n",
    "test = pd.read_csv('/Users/tekinosei/Desktop/Chuichui/test.csv')\n",
    "\n",
    "# Merging the training data and test data\n",
    "fulldata = train.append(test)\n",
    "fulldata_X = fulldata.drop('Activity', axis=1).values\n",
    "fulldata_y = fulldata.Activity.values\n",
    "\n",
    "n_samples, n_features = fulldata_X.shape\n",
    "\n",
    "# Number of categories\n",
    "n_activities = len(np.unique(fulldata_y)) \n",
    "\n",
    "# True lable of data\n",
    "labels = fulldata_y \n",
    "\n",
    "print(\"n_activities: %d, \\t n_samples %d, \\t n_features %d\"\n",
    "      % (n_activities, n_samples, n_features))"
   ]
  },
  {
   "cell_type": "markdown",
   "metadata": {},
   "source": [
    "# Mini Batch K-Means Clustering"
   ]
  },
  {
   "cell_type": "code",
   "execution_count": 3,
   "metadata": {},
   "outputs": [
    {
     "name": "stdout",
     "output_type": "stream",
     "text": [
      "Homogeneity score: 0.381 Completeness score: 0.381 V-measure: 0.381\n"
     ]
    }
   ],
   "source": [
    "batch_size = 200\n",
    "mbk = MiniBatchKMeans(init='k-means++', n_clusters=n_activities, batch_size=batch_size,\n",
    "                      n_init=10, max_no_improvement=10, verbose=0)\n",
    "mbk.fit(fulldata_X)\n",
    "\n",
    "print(\"Homogeneity score: %.3f Completeness score: %.3f V-measure: %.3f\"\n",
    "          % (metrics.homogeneity_score(labels, mbk.labels_),\n",
    "             metrics.completeness_score(labels, mbk.labels_),\n",
    "             metrics.v_measure_score(labels, mbk.labels_)))"
   ]
  }
 ],
 "metadata": {
  "kernelspec": {
   "display_name": "Python 3",
   "language": "python",
   "name": "python3"
  },
  "language_info": {
   "codemirror_mode": {
    "name": "ipython",
    "version": 3
   },
   "file_extension": ".py",
   "mimetype": "text/x-python",
   "name": "python",
   "nbconvert_exporter": "python",
   "pygments_lexer": "ipython3",
   "version": "3.6.1"
  }
 },
 "nbformat": 4,
 "nbformat_minor": 2
}
