{
 "cells": [
  {
   "cell_type": "code",
   "execution_count": 1,
   "metadata": {},
   "outputs": [],
   "source": [
    "#%% \n",
    "import pandas as pd\n",
    "\n",
    "\n",
    "from sklearn.gaussian_process import GaussianProcessClassifier as GPC\n",
    "from sklearn.gaussian_process.kernels import Matern\n",
    "\n",
    "from sklearn.model_selection import cross_val_score\n",
    "\n",
    "from datetime import datetime\n",
    "import numpy as np\n"
   ]
  },
  {
   "cell_type": "markdown",
   "metadata": {},
   "source": [
    "# GP using original data"
   ]
  },
  {
   "cell_type": "code",
   "execution_count": 2,
   "metadata": {},
   "outputs": [],
   "source": [
    "\n",
    "#%% import data\n",
    "tr = pd.read_csv('/Users/MAIN/Desktop/python/train_hid.csv')\n",
    "te = pd.read_csv('/Users/MAIN/Desktop/python/test_hid.csv')\n",
    "\n",
    "# Merging the training data and test data\n",
    "fulldata = tr.append(te)\n",
    "fulldata_X = fulldata.drop('Activity', axis=1).values\n",
    "fulldata_y = fulldata.Activity.values\n"
   ]
  },
  {
   "cell_type": "code",
   "execution_count": 3,
   "metadata": {},
   "outputs": [],
   "source": [
    "\n",
    "#%%\n",
    "# Instanciate a Gaussian Process model using Matern kernel\n",
    "kernel_matern=1.0 * Matern(length_scale=1.0, length_scale_bounds=(1e-1, 10.0),\n",
    "                        nu=1.5)\n",
    "\n",
    "#%% 10-runs of 10-fold cross-validation\n",
    "\n",
    "average_accuracy = np.zeros(10)\n",
    "scores = np.zeros(shape=(10,10))\n"
   ]
  },
  {
   "cell_type": "code",
   "execution_count": 5,
   "metadata": {},
   "outputs": [
    {
     "name": "stdout",
     "output_type": "stream",
     "text": [
      "The average accuracy of Gaussian Process Classification is 0.960082\n",
      "The total time used for 10 re-runs of a 10-fold cross-validation is (hh:mm:ss.ms) 1:02:13.092310\n"
     ]
    }
   ],
   "source": [
    "\n",
    "start_time = datetime.now()\n",
    "for i in range(10):\n",
    "    scores[i,:] = cross_val_score(GPC(kernel=kernel_matern), fulldata_X, fulldata_y, cv=10)\n",
    "    average_accuracy[i] = np.mean(scores[i,:])\n",
    "\n",
    "time_elapsed = datetime.now() - start_time \n",
    "print(\"The average accuracy of Gaussian Process Classification is %f\" % np.mean(average_accuracy))\n",
    "print('The total time used for 10 re-runs of a 10-fold cross-validation is (hh:mm:ss.ms) {}'.format(time_elapsed))"
   ]
  },
  {
   "cell_type": "markdown",
   "metadata": {},
   "source": [
    "# GP using PCA"
   ]
  },
  {
   "cell_type": "code",
   "execution_count": 6,
   "metadata": {},
   "outputs": [],
   "source": [
    "#%% import data\n",
    "tr = pd.read_csv('/Users/MAIN/Desktop/python/train_hid_pca.csv')\n",
    "te = pd.read_csv('/Users/MAIN/Desktop/python/test_hid_pca.csv')\n",
    "\n",
    "# Merging the training data and test data\n",
    "fulldata = tr.append(te)\n",
    "fulldata_X = fulldata.drop('Activity', axis=1).values\n",
    "fulldata_y = fulldata.Activity.values"
   ]
  },
  {
   "cell_type": "code",
   "execution_count": 7,
   "metadata": {},
   "outputs": [],
   "source": [
    "#%%\n",
    "# Instanciate a Gaussian Process model using Matern kernel\n",
    "kernel_matern=1.0 * Matern(length_scale=1.0, length_scale_bounds=(1e-1, 10.0),\n",
    "                        nu=1.5)\n",
    "\n",
    "#%% 10-runs of 10-fold cross-validation\n",
    "\n",
    "average_accuracy = np.zeros(10)\n",
    "scores = np.zeros(shape=(10,10))"
   ]
  },
  {
   "cell_type": "code",
   "execution_count": 8,
   "metadata": {},
   "outputs": [
    {
     "name": "stdout",
     "output_type": "stream",
     "text": [
      "The average accuracy of Gaussian Process Classification is 0.949087\n",
      "The total time used for 10 re-runs of a 10-fold cross-validation is (hh:mm:ss.ms) 0:59:32.917036\n"
     ]
    }
   ],
   "source": [
    "\n",
    "start_time = datetime.now()\n",
    "for i in range(10):\n",
    "    scores[i,:] = cross_val_score(GPC(kernel=kernel_matern), fulldata_X, fulldata_y, cv=10)\n",
    "    average_accuracy[i] = np.mean(scores[i,:])\n",
    "\n",
    "time_elapsed = datetime.now() - start_time \n",
    "print(\"The average accuracy of Gaussian Process Classification is %f\" % np.mean(average_accuracy))\n",
    "print('The total time used for 10 re-runs of a 10-fold cross-validation is (hh:mm:ss.ms) {}'.format(time_elapsed))"
   ]
  },
  {
   "cell_type": "code",
   "execution_count": null,
   "metadata": {},
   "outputs": [],
   "source": []
  }
 ],
 "metadata": {
  "kernelspec": {
   "display_name": "Python 3",
   "language": "python",
   "name": "python3"
  },
  "language_info": {
   "codemirror_mode": {
    "name": "ipython",
    "version": 3
   },
   "file_extension": ".py",
   "mimetype": "text/x-python",
   "name": "python",
   "nbconvert_exporter": "python",
   "pygments_lexer": "ipython3",
   "version": "3.6.4"
  }
 },
 "nbformat": 4,
 "nbformat_minor": 2
}
