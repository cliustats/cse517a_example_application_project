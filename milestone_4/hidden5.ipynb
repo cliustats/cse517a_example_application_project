{
 "cells": [
  {
   "cell_type": "code",
   "execution_count": 29,
   "metadata": {},
   "outputs": [],
   "source": [
    "import pandas as pd\n",
    "import numpy as np\n",
    "import matplotlib.pyplot as plt\n",
    "from random import *\n",
    "\n",
    "from sklearn.decomposition import PCA, KernelPCA\n",
    "\n",
    "import warnings; warnings.simplefilter('ignore')"
   ]
  },
  {
   "cell_type": "code",
   "execution_count": 30,
   "metadata": {},
   "outputs": [
    {
     "name": "stdout",
     "output_type": "stream",
     "text": [
      "Dimension for Original Training Set: \n",
      "(7352, 561)\n",
      "Dimension for Original Test Set: \n",
      "(2947, 561)\n"
     ]
    }
   ],
   "source": [
    "\n",
    "\n",
    "\n",
    "# read original data\n",
    "\n",
    "train = pd.read_csv('/Users/MAIN/Desktop/python/train.csv')\n",
    "test = pd.read_csv('/Users/MAIN/Desktop/python/test.csv')\n",
    "\n",
    "trainData  = train.drop(['Activity','subject'], axis=1).values\n",
    "trainLabel = train.Activity.values\n",
    "testData  = test.drop(['Activity','subject'], axis=1).values\n",
    "testLabel = test.Activity.values\n",
    "\n",
    "print(\"Dimension for Original Training Set: \")\n",
    "print(trainData.shape)\n",
    "print(\"Dimension for Original Test Set: \")\n",
    "print(testData.shape)\n"
   ]
  },
  {
   "cell_type": "code",
   "execution_count": 31,
   "metadata": {},
   "outputs": [
    {
     "name": "stdout",
     "output_type": "stream",
     "text": [
      "Explained Variance Ratio for Each PC: \n",
      "[6.25544400e-01 4.91302272e-02 4.12146745e-02 1.87495612e-02\n",
      " 1.69485999e-02 1.27206929e-02 1.17668514e-02 1.06897316e-02\n",
      " 9.69379779e-03 8.58018171e-03 7.62301911e-03 6.72445661e-03\n",
      " 5.79419596e-03 5.57880638e-03 4.98925730e-03 4.74937626e-03\n",
      " 4.67200109e-03 4.31617860e-03 4.25715180e-03 4.10395038e-03\n",
      " 3.94002400e-03 3.75309316e-03 3.52427487e-03 3.39359425e-03\n",
      " 3.32138996e-03 3.19428783e-03 3.01779146e-03 2.91782571e-03\n",
      " 2.89569948e-03 2.81927792e-03 2.76704144e-03 2.63395030e-03\n",
      " 2.55306673e-03 2.35865853e-03 2.30652249e-03 2.23648124e-03\n",
      " 2.22948080e-03 2.10275933e-03 2.08392873e-03 2.04773656e-03\n",
      " 1.92856295e-03 1.88879361e-03 1.81179963e-03 1.79472355e-03\n",
      " 1.72327460e-03 1.60200984e-03 1.57038945e-03 1.56626561e-03\n",
      " 1.52968169e-03 1.50350115e-03 1.45115612e-03 1.40638260e-03\n",
      " 1.36823338e-03 1.26852927e-03 1.25004068e-03 1.19737751e-03\n",
      " 1.18115664e-03 1.14990610e-03 1.13073876e-03 1.09663470e-03\n",
      " 1.07688524e-03 1.04889623e-03 1.03876799e-03 1.01430888e-03\n",
      " 9.91279824e-04 9.70084080e-04 9.53917725e-04 9.14072873e-04\n",
      " 8.87310829e-04 8.75811067e-04 8.52083881e-04 8.27907531e-04\n",
      " 8.21436844e-04 8.05352277e-04 7.80891529e-04 7.77520946e-04\n",
      " 7.69002605e-04 7.43788845e-04 7.30021690e-04 7.17846108e-04\n",
      " 7.01364230e-04 6.86588351e-04 6.76345396e-04 6.60922182e-04\n",
      " 6.50402846e-04 6.44089878e-04 6.34328814e-04 6.22964112e-04\n",
      " 6.05992111e-04 6.00488442e-04 5.96525587e-04 5.83848009e-04\n",
      " 5.66798169e-04 5.43953720e-04 5.38762849e-04 5.29230114e-04\n",
      " 5.19648569e-04 5.13930134e-04 5.09608531e-04 4.95315617e-04]\n",
      "Cumulated Explained Variance Ratio: \n",
      "0.9728414488208085\n",
      "Dimension for Transformed Training Set: \n",
      "(7352, 100)\n",
      "Dimension for Transformed Training Set: \n",
      "(2947, 100)\n"
     ]
    }
   ],
   "source": [
    "# apply PCA\n",
    "\n",
    "pca = PCA(n_components=100)\n",
    "pca.fit(trainData)\n",
    "print(\"Explained Variance Ratio for Each PC: \")\n",
    "print(pca.explained_variance_ratio_)\n",
    "print(\"Cumulated Explained Variance Ratio: \")\n",
    "print(sum(pca.explained_variance_ratio_))\n",
    "\n",
    "train_pca = pca.transform(trainData)\n",
    "test_pca = pca.transform(testData)\n",
    "\n",
    "\n",
    "print(\"Dimension for Transformed Training Set: \")\n",
    "print(train_pca.shape)\n",
    "print(\"Dimension for Transformed Training Set: \")\n",
    "print(test_pca.shape)\n",
    "\n"
   ]
  },
  {
   "cell_type": "code",
   "execution_count": 32,
   "metadata": {},
   "outputs": [
    {
     "name": "stdout",
     "output_type": "stream",
     "text": [
      "Dimension for Transformed Training Set: \n",
      "(700, 100)\n",
      "Dimension for Transformed Training Set: \n",
      "(300, 100)\n"
     ]
    }
   ],
   "source": [
    "ind1 = sample(list(range(1,7352)),700);\n",
    "ind2 = sample(list(range(1,2947)),300);\n",
    "train_pca = train_pca[ind1,:]\n",
    "test_pca = test_pca[ind2,:]\n",
    "trainLabel = trainLabel[ind1]\n",
    "testLabel = testLabel[ind2]\n",
    "\n",
    "\n",
    "print(\"Dimension for Transformed Training Set: \")\n",
    "print(train_pca.shape)\n",
    "print(\"Dimension for Transformed Training Set: \")\n",
    "print(test_pca.shape)"
   ]
  },
  {
   "cell_type": "code",
   "execution_count": 33,
   "metadata": {},
   "outputs": [],
   "source": [
    "# save PCA data\n",
    "\n",
    "traindf = pd.DataFrame(train_pca)\n",
    "testdf = pd.DataFrame(test_pca)\n",
    "traindf = pd.concat([traindf.reset_index(drop=True), pd.DataFrame(trainLabel)], axis=1)\n",
    "testdf = pd.concat([testdf.reset_index(drop=True), pd.DataFrame(testLabel)], axis=1)\n",
    "\n",
    "cnames = ['col1','col2','col3','col4','col5','col6','col7','col8','col9','col10',\n",
    "'col11','col12','col13','col14','col15','col16','col17','col18','col19','col20',\n",
    "'col21','col22','col23','col24','col25','col26','col27','col28','col29','col30',\n",
    "'col31','col32','col33','col34','col35','col36','col37','col38','col39','col40',\n",
    "'col41','col42','col43','col44','col45','col46','col47','col48','col49','col50',\n",
    "'col51','col52','col53','col54','col55','col56','col57','col58','col59','col60',\n",
    "'col61','col62','col63','col64','col65','col66','col67','col68','col69','col70',\n",
    "'col71','col72','col73','col74','col75','col76','col77','col78','col79','col80',\n",
    "'col81','col82','col83','col84','col85','col86','col87','col88','col89','col90',\n",
    "'col91','col92','col93','col94','col95','col96','col97','col98','col99','col100','Activity']\n",
    "traindf.columns = cnames\n",
    "testdf.columns = cnames\n",
    "traindf.to_csv('/Users/MAIN/Desktop/python/train_hid.csv',index=False)\n",
    "testdf.to_csv('/Users/MAIN/Desktop/python/test_hid.csv',index=False)"
   ]
  },
  {
   "cell_type": "code",
   "execution_count": null,
   "metadata": {},
   "outputs": [],
   "source": []
  }
 ],
 "metadata": {
  "kernelspec": {
   "display_name": "Python 3",
   "language": "python",
   "name": "python3"
  },
  "language_info": {
   "codemirror_mode": {
    "name": "ipython",
    "version": 3
   },
   "file_extension": ".py",
   "mimetype": "text/x-python",
   "name": "python",
   "nbconvert_exporter": "python",
   "pygments_lexer": "ipython3",
   "version": "3.6.4"
  }
 },
 "nbformat": 4,
 "nbformat_minor": 2
}
