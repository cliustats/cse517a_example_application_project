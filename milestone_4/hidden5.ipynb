{
 "cells": [
  {
   "cell_type": "code",
   "execution_count": 19,
   "metadata": {},
   "outputs": [],
   "source": [
    "import pandas as pd\n",
    "import numpy as np\n",
    "import matplotlib.pyplot as plt\n",
    "from random import *\n",
    "\n",
    "from sklearn.decomposition import PCA, KernelPCA\n",
    "\n",
    "import warnings; warnings.simplefilter('ignore')"
   ]
  },
  {
   "cell_type": "code",
   "execution_count": 20,
   "metadata": {},
   "outputs": [
    {
     "name": "stdout",
     "output_type": "stream",
     "text": [
      "Dimension for Original Training Set: \n",
      "(7352, 561)\n",
      "Dimension for Original Test Set: \n",
      "(2947, 561)\n"
     ]
    }
   ],
   "source": [
    "\n",
    "\n",
    "\n",
    "# read original data\n",
    "\n",
    "train = pd.read_csv('/Users/MAIN/Desktop/python/train.csv')\n",
    "test = pd.read_csv('/Users/MAIN/Desktop/python/test.csv')\n",
    "\n",
    "trainData  = train.drop(['Activity','subject'], axis=1).values\n",
    "trainLabel = train.Activity.values\n",
    "testData  = test.drop(['Activity','subject'], axis=1).values\n",
    "testLabel = test.Activity.values\n",
    "\n",
    "print(\"Dimension for Original Training Set: \")\n",
    "print(trainData.shape)\n",
    "print(\"Dimension for Original Test Set: \")\n",
    "print(testData.shape)\n"
   ]
  },
  {
   "cell_type": "code",
   "execution_count": 21,
   "metadata": {},
   "outputs": [
    {
     "name": "stdout",
     "output_type": "stream",
     "text": [
      "Explained Variance Ratio for Each PC: \n",
      "[6.25544400e-01 4.91302272e-02 4.12146745e-02 1.87495612e-02\n",
      " 1.69485999e-02 1.27206929e-02 1.17668514e-02 1.06897316e-02\n",
      " 9.69379779e-03 8.58018171e-03 7.62301911e-03 6.72445660e-03\n",
      " 5.79419596e-03 5.57880638e-03 4.98925730e-03 4.74937626e-03\n",
      " 4.67200109e-03 4.31617860e-03 4.25715179e-03 4.10395038e-03\n",
      " 3.94002401e-03 3.75309315e-03 3.52427487e-03 3.39359425e-03\n",
      " 3.32138992e-03 3.19428782e-03 3.01779143e-03 2.91782566e-03\n",
      " 2.89569947e-03 2.81927782e-03 2.76704139e-03 2.63395033e-03\n",
      " 2.55306658e-03 2.35865813e-03 2.30652240e-03 2.23648107e-03\n",
      " 2.22948106e-03 2.10275923e-03 2.08392804e-03 2.04773487e-03\n",
      " 1.92856051e-03 1.88879467e-03 1.81179999e-03 1.79472438e-03\n",
      " 1.72327132e-03 1.60201476e-03 1.57036754e-03 1.56626060e-03\n",
      " 1.52969058e-03 1.50350633e-03 1.45116731e-03 1.40637203e-03\n",
      " 1.36823202e-03 1.26843757e-03 1.25002312e-03 1.19736793e-03\n",
      " 1.18113018e-03 1.14985770e-03 1.13076555e-03 1.09658439e-03\n",
      " 1.07695333e-03 1.04874210e-03 1.03882964e-03 1.01440363e-03\n",
      " 9.91204993e-04 9.70154341e-04 9.53879512e-04 9.13843199e-04\n",
      " 8.87255647e-04 8.75348788e-04 8.51241902e-04 8.27528834e-04\n",
      " 8.19718518e-04 8.05234825e-04 7.78212270e-04 7.77194587e-04\n",
      " 7.71175402e-04 7.43841360e-04 7.29873218e-04 7.18946902e-04\n",
      " 6.99437471e-04 6.84710398e-04 6.75935393e-04 6.58813744e-04\n",
      " 6.49725807e-04 6.47608290e-04 6.33823288e-04 6.27271888e-04\n",
      " 6.07195417e-04 5.95345845e-04 5.93626156e-04 5.80272818e-04\n",
      " 5.60032363e-04 5.46105733e-04 5.41731940e-04 5.30478357e-04\n",
      " 5.21576966e-04 5.16532573e-04 5.10951739e-04 4.94364098e-04]\n",
      "Cumulated Explained Variance Ratio: \n",
      "0.9728320447702948\n",
      "Dimension for Transformed Training Set: \n",
      "(7352, 100)\n",
      "Dimension for Transformed Training Set: \n",
      "(2947, 100)\n"
     ]
    }
   ],
   "source": [
    "# apply PCA\n",
    "\n",
    "pca = PCA(n_components=100)\n",
    "pca.fit(trainData)\n",
    "print(\"Explained Variance Ratio for Each PC: \")\n",
    "print(pca.explained_variance_ratio_)\n",
    "print(\"Cumulated Explained Variance Ratio: \")\n",
    "print(sum(pca.explained_variance_ratio_))\n",
    "\n",
    "train_pca = pca.transform(trainData)\n",
    "test_pca = pca.transform(testData)\n",
    "\n",
    "\n",
    "print(\"Dimension for Transformed Training Set: \")\n",
    "print(train_pca.shape)\n",
    "print(\"Dimension for Transformed Training Set: \")\n",
    "print(test_pca.shape)\n",
    "\n"
   ]
  },
  {
   "cell_type": "code",
   "execution_count": 22,
   "metadata": {},
   "outputs": [
    {
     "name": "stdout",
     "output_type": "stream",
     "text": [
      "Dimension for Transformed Training Set: \n",
      "(700, 100)\n",
      "Dimension for Transformed Training Set: \n",
      "(300, 100)\n"
     ]
    }
   ],
   "source": [
    "train_pca = train_pca[sample(list(range(1,7352)),700),:]\n",
    "test_pca = test_pca[sample(list(range(1,2947)),300),:]\n",
    "\n",
    "print(\"Dimension for Transformed Training Set: \")\n",
    "print(train_pca.shape)\n",
    "print(\"Dimension for Transformed Training Set: \")\n",
    "print(test_pca.shape)"
   ]
  },
  {
   "cell_type": "code",
   "execution_count": 23,
   "metadata": {},
   "outputs": [],
   "source": [
    "# save PCA data\n",
    "\n",
    "traindf = pd.DataFrame(train_pca)\n",
    "testdf = pd.DataFrame(test_pca)\n",
    "traindf = pd.concat([traindf.reset_index(drop=True), pd.DataFrame(trainLabel)], axis=1)\n",
    "testdf = pd.concat([testdf.reset_index(drop=True), pd.DataFrame(testLabel)], axis=1)\n",
    "\n",
    "cnames = ['col1','col2','col3','col4','col5','col6','col7','col8','col9','col10',\n",
    "'col11','col12','col13','col14','col15','col16','col17','col18','col19','col20',\n",
    "'col21','col22','col23','col24','col25','col26','col27','col28','col29','col30',\n",
    "'col31','col32','col33','col34','col35','col36','col37','col38','col39','col40',\n",
    "'col41','col42','col43','col44','col45','col46','col47','col48','col49','col50',\n",
    "'col51','col52','col53','col54','col55','col56','col57','col58','col59','col60',\n",
    "'col61','col62','col63','col64','col65','col66','col67','col68','col69','col70',\n",
    "'col71','col72','col73','col74','col75','col76','col77','col78','col79','col80',\n",
    "'col81','col82','col83','col84','col85','col86','col87','col88','col89','col90',\n",
    "'col91','col92','col93','col94','col95','col96','col97','col98','col99','col100','Activity']\n",
    "traindf.columns = cnames\n",
    "testdf.columns = cnames\n",
    "traindf.to_csv('/Users/MAIN/Desktop/python/train_hid.csv',index=False)\n",
    "testdf.to_csv('/Users/MAIN/Desktop/python/test_hid.csv',index=False)"
   ]
  },
  {
   "cell_type": "code",
   "execution_count": null,
   "metadata": {},
   "outputs": [],
   "source": []
  }
 ],
 "metadata": {
  "kernelspec": {
   "display_name": "Python 3",
   "language": "python",
   "name": "python3"
  },
  "language_info": {
   "codemirror_mode": {
    "name": "ipython",
    "version": 3
   },
   "file_extension": ".py",
   "mimetype": "text/x-python",
   "name": "python",
   "nbconvert_exporter": "python",
   "pygments_lexer": "ipython3",
   "version": "3.6.4"
  }
 },
 "nbformat": 4,
 "nbformat_minor": 2
}
