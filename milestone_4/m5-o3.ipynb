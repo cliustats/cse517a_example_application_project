{
 "cells": [
  {
   "cell_type": "markdown",
   "metadata": {},
   "source": [
    "# import packages"
   ]
  },
  {
   "cell_type": "code",
   "execution_count": 9,
   "metadata": {},
   "outputs": [],
   "source": [
    "import pandas as pd\n",
    "import numpy as np\n",
    "import matplotlib.pyplot as plt\n",
    "\n",
    "from datetime import datetime\n",
    "from sklearn.model_selection import cross_val_score\n",
    "from sklearn.neural_network import MLPClassifier\n",
    "\n",
    "import warnings; warnings.simplefilter('ignore')"
   ]
  },
  {
   "cell_type": "markdown",
   "metadata": {},
   "source": [
    "# read data"
   ]
  },
  {
   "cell_type": "code",
   "execution_count": 5,
   "metadata": {},
   "outputs": [],
   "source": [
    "# read original data\n",
    "\n",
    "train = pd.read_csv('/Users/MAIN/Desktop/python/train_hid.csv')\n",
    "test = pd.read_csv('/Users/MAIN/Desktop/python/test_hid.csv')\n",
    "\n",
    "trainData  = train.drop(['Activity'], axis=1).values\n",
    "trainLabel = train.Activity.values\n",
    "testData  = test.drop(['Activity'], axis=1).values\n",
    "testLabel = test.Activity.values\n",
    "\n",
    "fullData = np.concatenate((trainData,testData))\n",
    "fullLabel = np.concatenate((trainLabel,testLabel))\n"
   ]
  },
  {
   "cell_type": "markdown",
   "metadata": {},
   "source": [
    "# neural network using quasi-Newton"
   ]
  },
  {
   "cell_type": "code",
   "execution_count": 10,
   "metadata": {},
   "outputs": [
    {
     "name": "stdout",
     "output_type": "stream",
     "text": [
      "0.952082184443169\n",
      "0.9400525681526052\n",
      "0.9531194519503833\n",
      "0.9419345036217613\n",
      "0.944028282545306\n",
      "0.943042296801362\n",
      "0.940071587233035\n",
      "0.9329657000929759\n",
      "0.9370311770695698\n",
      "0.9439733246823894\n",
      "average result: \n",
      "0.9428301076592558\n",
      "total time elapsed\n",
      "0:00:33.427159\n"
     ]
    }
   ],
   "source": [
    "clf = MLPClassifier(solver='lbfgs',hidden_layer_sizes=(20,10),alpha=0.01,max_iter=1000)\n",
    "\n",
    "start_time = datetime.now()\n",
    "avg_acc = np.zeros(10)\n",
    "scores = np.zeros(shape=(10,10))\n",
    "for i in range(10):\n",
    "    scores[i,:] = cross_val_score(clf,fullData,fullLabel,cv=10)\n",
    "    avg_acc[i] = np.mean(scores[i,:])\n",
    "    print(avg_acc[i])\n",
    "print(\"average result: \")\n",
    "print(np.mean(avg_acc))\n",
    "\n",
    "time_elapsed = datetime.now() - start_time\n",
    "print(\"total time elapsed: \")\n",
    "print(time_elapsed)"
   ]
  },
  {
   "cell_type": "markdown",
   "metadata": {},
   "source": [
    "# neural network using stochastic gradient descent"
   ]
  },
  {
   "cell_type": "code",
   "execution_count": 11,
   "metadata": {},
   "outputs": [
    {
     "name": "stdout",
     "output_type": "stream",
     "text": [
      "0.9421716997056813\n",
      "0.9439943096023594\n",
      "0.9360699562052153\n",
      "0.9510171799937537\n",
      "0.938103352391457\n",
      "0.9399401890628132\n",
      "0.9432547883638002\n",
      "0.950086976937477\n",
      "0.9410807053233661\n",
      "0.9359370400310036\n",
      "average result: \n",
      "0.9421656197616926\n",
      "total time elapsed: \n",
      "0:02:49.452924\n"
     ]
    }
   ],
   "source": [
    "clf = MLPClassifier(solver='sgd',hidden_layer_sizes=(20,10),alpha=0.01,max_iter=1000)\n",
    "\n",
    "start_time = datetime.now()\n",
    "avg_acc = np.zeros(10)\n",
    "scores = np.zeros(shape=(10,10))\n",
    "for i in range(10):\n",
    "    scores[i,:] = cross_val_score(clf,fullData,fullLabel,cv=10)\n",
    "    avg_acc[i] = np.mean(scores[i,:])\n",
    "    print(avg_acc[i])\n",
    "print(\"average result: \")\n",
    "print(np.mean(avg_acc))\n",
    "\n",
    "time_elapsed = datetime.now() - start_time\n",
    "print(\"total time elapsed: \")\n",
    "print(time_elapsed)"
   ]
  },
  {
   "cell_type": "code",
   "execution_count": null,
   "metadata": {},
   "outputs": [],
   "source": []
  }
 ],
 "metadata": {
  "kernelspec": {
   "display_name": "Python 3",
   "language": "python",
   "name": "python3"
  },
  "language_info": {
   "codemirror_mode": {
    "name": "ipython",
    "version": 3
   },
   "file_extension": ".py",
   "mimetype": "text/x-python",
   "name": "python",
   "nbconvert_exporter": "python",
   "pygments_lexer": "ipython3",
   "version": "3.6.4"
  }
 },
 "nbformat": 4,
 "nbformat_minor": 2
}
