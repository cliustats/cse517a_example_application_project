{
 "cells": [
  {
   "cell_type": "code",
   "execution_count": 1,
   "metadata": {},
   "outputs": [],
   "source": [
    "# Import the required Python libraries\n",
    "from sklearn import linear_model\n",
    "from sklearn.model_selection import train_test_split\n",
    "from sklearn.model_selection import cross_val_score\n",
    "import pandas as pd\n",
    "import numpy as np\n",
    "import random\n",
    "from datetime import datetime"

   ]
  },
  {
   "cell_type": "markdown",
   "metadata": {},
   "source": [
    "## Merging the training data and test data"
   ]
  },
  {
   "cell_type": "code",
   "execution_count": 2,
   "metadata": {},
   "outputs": [
    {
     "data": {
      "text/plain": [
       "(1000, 101)"
      ]
     },
     "execution_count": 2,
     "metadata": {},
     "output_type": "execute_result"
    }
   ],
   "source": [

    "train = pd.read_csv('/Users/MAIN/Desktop/python/train_hid.csv')\n",
    "test = pd.read_csv('/Users/MAIN/Desktop/python/test_hid.csv')\n",

    "fulldata = np.concatenate((train,test))\n",
    "fulldata.shape"
   ]
  },
  {
   "cell_type": "code",
   "execution_count": 3,
   "metadata": {},
   "outputs": [],
   "source": [
    "fulldata_X = fulldata[:,:-1]\n",
    "fulldata_y = fulldata[:,-1]"
   ]
  },
  {
   "cell_type": "markdown",
   "metadata": {},
   "source": [
    "## Using 10 re-runs of a 10-fold cross-validation to evaluate the linear classifier model"
   ]
  },
  {
   "cell_type": "code",
   "execution_count": 4,
   "metadata": {},
   "outputs": [],
   "source": [
    "linear_classify = linear_model.SGDClassifier(max_iter=1000)"
   ]
  },
  {
   "cell_type": "code",
   "execution_count": 5,
   "metadata": {},
   "outputs": [
    {
     "name": "stdout",
     "output_type": "stream",
     "text": [

      "0.9381376834494253\n",
      "0.9381475844395244\n",
      "0.9371668096630176\n",
      "0.9381271637776389\n",
      "0.9361352631462788\n",
      "0.9371067556143737\n",
      "0.9350857287694211\n",
      "0.9351265575945718\n",
      "0.9380968546242746\n",
      "0.9381376834494253\n",
      "The average accuracy of linear classifier is 0.937127\n",
      "The total time used for 10 re-runs of a 10-fold cross-validation is (hh:mm:ss.ms) 0:01:22.848053\n"

     ]
    }
   ],
   "source": [
    "average_accuracy = np.zeros(10)\n",
    "scores =  np.zeros(shape=(10,10))\n",

    "\n",
    "start_time = datetime.now()\n",
    "for i in range(10):\n",
    "    scores[i,:] = cross_val_score(linear_classify, fulldata_X, fulldata_y, cv=10)\n",
    "    average_accuracy[i] = np.mean(scores[i,:])\n",
    "    print (average_accuracy[i])\n",
    "    \n",
    "time_elapsed = datetime.now() - start_time \n",
    "print (\"The average accuracy of linear classifier is %f\" % np.mean(average_accuracy))\n",
    "print('The total time used for 10 re-runs of a 10-fold cross-validation is (hh:mm:ss.ms) {}'.format(time_elapsed))   "
   ]
  },
  {
   "cell_type": "code",
   "execution_count": null,
   "metadata": {},
   "outputs": [],
   "source": []

  }
 ],
 "metadata": {
  "kernelspec": {
   "display_name": "Python 3",
   "language": "python",
   "name": "python3"
  },
  "language_info": {
   "codemirror_mode": {
    "name": "ipython",
    "version": 3
   },
   "file_extension": ".py",
   "mimetype": "text/x-python",
   "name": "python",
   "nbconvert_exporter": "python",
   "pygments_lexer": "ipython3",
   "version": "3.6.4"
  }
 },
 "nbformat": 4,
 "nbformat_minor": 2
}
