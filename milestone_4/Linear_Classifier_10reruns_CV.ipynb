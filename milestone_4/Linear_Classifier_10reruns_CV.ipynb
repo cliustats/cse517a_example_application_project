{
 "cells": [
  {
   "cell_type": "code",
   "execution_count": 1,
   "metadata": {},
   "outputs": [],
   "source": [
    "# Import the required Python libraries\n",
    "from sklearn import linear_model\n",
    "from sklearn.model_selection import train_test_split\n",
    "from sklearn.model_selection import cross_val_score\n",
    "import pandas as pd\n",
    "import numpy as np"
   ]
  },
  {
   "cell_type": "markdown",
   "metadata": {},
   "source": [
    "## Merging the training data and test data"
   ]
  },
  {
   "cell_type": "code",
   "execution_count": 2,
   "metadata": {},
   "outputs": [
    {
     "data": {
      "text/plain": [
       "(1000, 101)"
      ]
     },
     "execution_count": 2,
     "metadata": {},
     "output_type": "execute_result"
    }
   ],
   "source": [
    "train = pd.read_csv('/Users/Chang/Desktop/Application_Project/UCI HAR Dataset/train_hid.csv')\n",
    "test = pd.read_csv('/Users/Chang/Desktop/Application_Project/UCI HAR Dataset/test_hid.csv')\n",
    "fulldata = np.concatenate((train,test))\n",
    "fulldata.shape"
   ]
  },
  {
   "cell_type": "code",
   "execution_count": 3,
   "metadata": {},
   "outputs": [],
   "source": [
    "fulldata_X = fulldata[:,:-1]\n",
    "fulldata_y = fulldata[:,-1]"
   ]
  },
  {
   "cell_type": "markdown",
   "metadata": {},
   "source": [
    "## Using 10 re-runs of a 10-fold cross-validation to evaluate the linear classifier model"
   ]
  },
  {
   "cell_type": "code",
   "execution_count": 4,
   "metadata": {},
   "outputs": [],
   "source": [
    "linear_classify = linear_model.SGDClassifier(max_iter=1000)"
   ]
  },
  {
   "cell_type": "code",
   "execution_count": 5,
   "metadata": {},
   "outputs": [
    {
     "name": "stdout",
     "output_type": "stream",
     "text": [
      "0.9351265575945718\n",
      "0.9340756277593203\n",
      "0.9371067556143737\n",
      "0.9371574854296233\n",
      "0.9340956297595202\n",
      "0.9350956297595202\n",
      "0.9380968546242746\n",
      "0.936146965757837\n",
      "0.9381376834494253\n",
      "0.9352058368667088\n"
     ]
    }
   ],
   "source": [
    "average_accuracy = np.zeros(10)\n",
    "scores =  np.zeros(shape=(10,10))\n",
    "for i in range(10):\n",
    "    scores[i,:] = cross_val_score(linear_classify, fulldata_X, fulldata_y, cv=10)\n",
    "    average_accuracy[i] = np.mean(scores[i])\n",
    "    print (average_accuracy[i])\n",
    "    "
   ]
  }
 ],
 "metadata": {
  "kernelspec": {
   "display_name": "Python 3",
   "language": "python",
   "name": "python3"
  },
  "language_info": {
   "codemirror_mode": {
    "name": "ipython",
    "version": 3
   },
   "file_extension": ".py",
   "mimetype": "text/x-python",
   "name": "python",
   "nbconvert_exporter": "python",
   "pygments_lexer": "ipython3",
   "version": "3.6.4"
  }
 },
 "nbformat": 4,
 "nbformat_minor": 2
}
