{
 "cells": [
  {
   "cell_type": "markdown",
   "metadata": {},
   "source": [
    "## Decision tree"
   ]
  },
  {
   "cell_type": "code",
   "execution_count": 18,
   "metadata": {},
   "outputs": [],
   "source": [
    "from sklearn import tree\n",
    "from sklearn.model_selection import cross_val_score\n",
    "from sklearn.ensemble import BaggingClassifier\n",
    "import pandas as pd\n",
    "import numpy as np"
   ]
  },
  {
   "cell_type": "code",
   "execution_count": 19,
   "metadata": {},
   "outputs": [],
   "source": [
    "train = pd.read_csv('/Users/Chang/Desktop/Application_Project/UCI HAR Dataset/train.csv')\n",
    "test = pd.read_csv('/Users/Chang/Desktop/Application_Project/UCI HAR Dataset/test.csv')\n",
    "# separating data inputs and output lables\n",
    "trainData  = train.drop('Activity', axis=1).values\n",
    "trainLabel = train.Activity.values\n",
    "testData  = test.drop('Activity', axis=1).values\n",
    "testLabel = test.Activity.values"
   ]
  },
  {
   "cell_type": "code",
   "execution_count": 20,
   "metadata": {},
   "outputs": [],
   "source": [
    "# Using the decision tree to model the training data\n",
    "dec_tree_classify = tree.DecisionTreeClassifier()\n",
    "clf = dec_tree_classify.fit(trainData, trainLabel)"
   ]
  },
  {
   "cell_type": "code",
   "execution_count": 21,
   "metadata": {},
   "outputs": [
    {
     "name": "stdout",
     "output_type": "stream",
     "text": [
      "0.8595181540549711\n"
     ]
    }
   ],
   "source": [
    "# Get the accuracy of the test data\n",
    "accuracy = clf.score(testData, testLabel)\n",
    "print (accuracy)"
   ]
  },
  {
   "cell_type": "markdown",
   "metadata": {},
   "source": [
    "## Merge the data"
   ]
  },
  {
   "cell_type": "code",
   "execution_count": 22,
   "metadata": {},
   "outputs": [],
   "source": [
    "fulldata = np.concatenate((train,test))\n",
    "fulldata_X = fulldata[:,:-1]\n",
    "fulldata_y = fulldata[:,-1]"
   ]
  },
  {
   "cell_type": "code",
   "execution_count": 24,
   "metadata": {},
   "outputs": [
    {
     "name": "stdout",
     "output_type": "stream",
     "text": [
      "[0.88673766 0.8286544  0.82848837 0.875      0.84757282 0.90776699\n",
      " 0.88618677 0.79357352 0.88899708 0.87341772]\n",
      "0.8616395325783737\n"
     ]
    }
   ],
   "source": [
    "scores = cross_val_score(dec_tree_classify, fulldata_X, fulldata_y, cv=10)\n",
    "print (scores)\n",
    "print (np.mean(scores))"
   ]
  },
  {
   "cell_type": "markdown",
   "metadata": {},
   "source": [
    "## Bagging"
   ]
  },
  {
   "cell_type": "code",
   "execution_count": 25,
   "metadata": {},
   "outputs": [],
   "source": [
    "bagging_tree_classify = BaggingClassifier()"
   ]
  },
  {
   "cell_type": "code",
   "execution_count": 26,
   "metadata": {},
   "outputs": [
    {
     "name": "stdout",
     "output_type": "stream",
     "text": [
      "[0.91868345 0.88770571 0.84786822 0.93023256 0.93883495 0.95631068\n",
      " 0.91828794 0.84031159 0.90555015 0.91918208]\n",
      "0.9062967318740338\n"
     ]
    }
   ],
   "source": [
    "scores = cross_val_score(bagging_tree_classify, fulldata_X, fulldata_y, cv=10)\n",
    "print (scores)\n",
    "print (np.mean(scores))"
   ]
  },
  {
   "cell_type": "code",
   "execution_count": null,
   "metadata": {},
   "outputs": [],
   "source": []
  }
 ],
 "metadata": {
  "kernelspec": {
   "display_name": "Python 3",
   "language": "python",
   "name": "python3"
  },
  "language_info": {
   "codemirror_mode": {
    "name": "ipython",
    "version": 3
   },
   "file_extension": ".py",
   "mimetype": "text/x-python",
   "name": "python",
   "nbconvert_exporter": "python",
   "pygments_lexer": "ipython3",
   "version": "3.6.4"
  }
 },
 "nbformat": 4,
 "nbformat_minor": 2
}
