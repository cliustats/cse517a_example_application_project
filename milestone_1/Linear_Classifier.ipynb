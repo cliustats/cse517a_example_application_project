{
 "cells": [
  {
   "cell_type": "markdown",
   "metadata": {},
   "source": [
    "## Load the data"
   ]
  },
  {
   "cell_type": "code",

   "execution_count": 1,

   "metadata": {},
   "outputs": [],
   "source": [
    "# Import the required Python libraries\n",
    "from sklearn import linear_model\n",
    "from sklearn.model_selection import train_test_split\n",
    "import pandas as pd\n",
    "import numpy as np\n",
    "import warnings; warnings.simplefilter('ignore')"
   ]
  },
  {
   "cell_type": "code",

   "execution_count": 2,
   "metadata": {},
   "outputs": [],
   "source": [
    "train = pd.read_csv('/Users/MAIN/Desktop/python/train.csv')\n",
    "test = pd.read_csv('/Users/MAIN/Desktop/python/test.csv')\n",
    "\n",
    "trainData  = train.drop(['Activity','subject'], axis=1).values\n",
    "trainLabel = train.Activity.values\n",
    "testData  = test.drop(['Activity','subject'], axis=1).values\n",

    "testLabel = test.Activity.values"
   ]
  },
  {
   "cell_type": "code",

   "execution_count": 3,

   "metadata": {
    "scrolled": true
   },
   "outputs": [
    {
     "name": "stdout",
     "output_type": "stream",
     "text": [

      "(7352, 561)\n",
      "(7352,)\n",
      "(2947, 561)\n",

      "(2947,)\n"
     ]
    }
   ],
   "source": [
    "print (trainData.shape)\n",
    "print (trainLabel.shape)\n",
    "print (testData.shape)\n",
    "print (testLabel.shape)"
   ]
  },
  {
   "cell_type": "code",

   "execution_count": 4,

   "metadata": {},
   "outputs": [
    {
     "data": {
      "text/plain": [
       "SGDClassifier(alpha=0.0001, average=False, class_weight=None, epsilon=0.1,\n",
       "       eta0=0.0, fit_intercept=True, l1_ratio=0.15,\n",
       "       learning_rate='optimal', loss='hinge', max_iter=None, n_iter=None,\n",
       "       n_jobs=1, penalty='l2', power_t=0.5, random_state=None,\n",
       "       shuffle=True, tol=None, verbose=0, warm_start=False)"
      ]
     },

     "execution_count": 4,

     "metadata": {},
     "output_type": "execute_result"
    }
   ],
   "source": [
    "# Run the linear classfier\n",
    "linear_classify = linear_model.SGDClassifier()\n",
    "# Fit the data\n",
    "linear_classify.fit(trainData, trainLabel)"
   ]
  },
  {
   "cell_type": "code",

   "execution_count": 5,

   "metadata": {},
   "outputs": [
    {
     "name": "stdout",
     "output_type": "stream",
     "text": [

      "0.9429928741092637\n"

     ]
    }
   ],
   "source": [
    "# Get the accuracy of the test data\n",
    "accuracy = linear_classify.score(testData, testLabel)\n",
    "print (accuracy)"
   ]
  },
  {
   "cell_type": "code",
   "execution_count": null,
   "metadata": {},
   "outputs": [],
   "source": []
  }
 ],
 "metadata": {
  "kernelspec": {
   "display_name": "Python 3",
   "language": "python",
   "name": "python3"
  },
  "language_info": {
   "codemirror_mode": {
    "name": "ipython",
    "version": 3
   },
   "file_extension": ".py",
   "mimetype": "text/x-python",
   "name": "python",
   "nbconvert_exporter": "python",
   "pygments_lexer": "ipython3",
   "version": "3.6.4"
  }
 },
 "nbformat": 4,
 "nbformat_minor": 2
}
